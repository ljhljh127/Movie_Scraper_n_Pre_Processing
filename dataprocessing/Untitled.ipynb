{
 "cells": [
  {
   "cell_type": "code",
   "execution_count": 1,
   "id": "3f6fa115",
   "metadata": {},
   "outputs": [],
   "source": [
    "import pandas as pd\n",
    "import os"
   ]
  },
  {
   "cell_type": "code",
   "execution_count": 16,
   "id": "4f50f2f8",
   "metadata": {},
   "outputs": [
    {
     "name": "stdout",
     "output_type": "stream",
     "text": [
      "[Timestamp('2012-10-18 00:00:00'), Timestamp('2012-10-25 00:00:00'), Timestamp('2012-10-26 00:00:00'), Timestamp('2012-10-27 00:00:00'), Timestamp('2012-10-28 00:00:00'), Timestamp('2012-10-29 00:00:00'), Timestamp('2012-10-30 00:00:00'), Timestamp('2012-10-31 00:00:00'), Timestamp('2012-11-01 00:00:00'), Timestamp('2012-11-02 00:00:00'), Timestamp('2012-11-03 00:00:00'), Timestamp('2012-11-04 00:00:00'), Timestamp('2012-11-05 00:00:00'), Timestamp('2012-11-06 00:00:00'), Timestamp('2012-11-07 00:00:00'), Timestamp('2012-11-08 00:00:00'), Timestamp('2012-11-09 00:00:00'), Timestamp('2012-11-10 00:00:00'), Timestamp('2012-11-11 00:00:00'), Timestamp('2012-11-12 00:00:00'), Timestamp('2012-11-13 00:00:00'), Timestamp('2012-11-14 00:00:00'), Timestamp('2012-11-15 00:00:00'), Timestamp('2012-11-16 00:00:00'), Timestamp('2012-11-17 00:00:00'), Timestamp('2012-11-18 00:00:00'), Timestamp('2012-11-19 00:00:00'), Timestamp('2012-11-20 00:00:00'), Timestamp('2012-11-21 00:00:00'), Timestamp('2012-11-22 00:00:00'), Timestamp('2012-11-23 00:00:00'), Timestamp('2012-11-24 00:00:00'), Timestamp('2012-11-25 00:00:00'), Timestamp('2012-11-26 00:00:00'), Timestamp('2012-11-27 00:00:00'), Timestamp('2012-11-28 00:00:00'), Timestamp('2012-11-29 00:00:00'), Timestamp('2012-11-30 00:00:00'), Timestamp('2012-12-01 00:00:00'), Timestamp('2012-12-02 00:00:00'), Timestamp('2012-12-03 00:00:00'), Timestamp('2012-12-04 00:00:00'), Timestamp('2012-12-05 00:00:00'), Timestamp('2012-12-06 00:00:00'), Timestamp('2012-12-07 00:00:00'), Timestamp('2012-12-08 00:00:00'), Timestamp('2012-12-09 00:00:00'), Timestamp('2012-12-10 00:00:00'), Timestamp('2012-12-11 00:00:00'), Timestamp('2012-12-12 00:00:00'), Timestamp('2012-12-13 00:00:00'), Timestamp('2012-12-14 00:00:00'), Timestamp('2012-12-15 00:00:00'), Timestamp('2012-12-16 00:00:00'), Timestamp('2012-12-17 00:00:00'), Timestamp('2012-12-18 00:00:00'), Timestamp('2013-02-01 00:00:00'), Timestamp('2013-02-02 00:00:00')]\n"
     ]
    },
    {
     "ename": "SystemExit",
     "evalue": "",
     "output_type": "error",
     "traceback": [
      "An exception has occurred, use %tb to see the full traceback.\n",
      "\u001b[1;31mSystemExit\u001b[0m\n"
     ]
    },
    {
     "name": "stderr",
     "output_type": "stream",
     "text": [
      "C:\\Users\\이정현\\AppData\\Local\\Programs\\Python\\Python38\\lib\\site-packages\\IPython\\core\\interactiveshell.py:3386: UserWarning: To exit: use 'exit', 'quit', or Ctrl-D.\n",
      "  warn(\"To exit: use 'exit', 'quit', or Ctrl-D.\", stacklevel=1)\n"
     ]
    }
   ],
   "source": [
    "import os,sys\n",
    "import pandas as pd\n",
    "from openpyxl import load_workbook\n",
    "path=\"C:/Users/이정현/PycharmProjects/pythonProject/dataprocessing/영화\"\n",
    "count=0\n",
    "file_list = os.listdir(path)\n",
    "\n",
    "for file_name_raw in file_list:\n",
    "    file_name=\"C:/Users/이정현/PycharmProjects/pythonProject/dataprocessing/영화/\"+file_name_raw\n",
    "    file_date=\"C:/Users/이정현/PycharmProjects/pythonProject/dataprocessing/영화 날짜/영화 날짜 파일.xlsx\"\n",
    "    df_file_date = pd.read_excel(file_date,engine='openpyxl')\n",
    "    df = pd.read_excel(file_name,engine='openpyxl')\n",
    "    date = df_file_date.iloc[count,1]\n",
    "    print(list(df[\"날짜\"]))\n",
    "    count += 1\n",
    "    sys.exit()"
   ]
  },
  {
   "cell_type": "code",
   "execution_count": 13,
   "id": "f4511ec3",
   "metadata": {},
   "outputs": [
    {
     "data": {
      "text/plain": [
       "'007퀀텀오브솔러스'"
      ]
     },
     "execution_count": 13,
     "metadata": {},
     "output_type": "execute_result"
    }
   ],
   "source": [
    "df_file_date.iloc[0,0]"
   ]
  },
  {
   "cell_type": "code",
   "execution_count": null,
   "id": "3f287a27",
   "metadata": {},
   "outputs": [],
   "source": []
  }
 ],
 "metadata": {
  "kernelspec": {
   "display_name": "Python 3 (ipykernel)",
   "language": "python",
   "name": "python3"
  },
  "language_info": {
   "codemirror_mode": {
    "name": "ipython",
    "version": 3
   },
   "file_extension": ".py",
   "mimetype": "text/x-python",
   "name": "python",
   "nbconvert_exporter": "python",
   "pygments_lexer": "ipython3",
   "version": "3.8.7"
  }
 },
 "nbformat": 4,
 "nbformat_minor": 5
}
